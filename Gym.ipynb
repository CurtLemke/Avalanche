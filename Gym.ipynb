{
 "cells": [
  {
   "cell_type": "code",
   "execution_count": 1,
   "metadata": {
    "collapsed": false
   },
   "outputs": [],
   "source": [
    "import networkx as nx\n",
    "import matplotlib.pyplot as plt\n",
    "import numpy as np"
   ]
  },
  {
   "cell_type": "code",
   "execution_count": 5,
   "metadata": {
    "collapsed": false
   },
   "outputs": [
    {
     "ename": "SyntaxError",
     "evalue": "invalid syntax (<ipython-input-5-52d79caa56aa>, line 21)",
     "output_type": "error",
     "traceback": [
      "\u001b[0;36m  File \u001b[0;32m\"<ipython-input-5-52d79caa56aa>\"\u001b[0;36m, line \u001b[0;32m21\u001b[0m\n\u001b[0;31m    defaults = [i if self.liabilities[i, i] == 0 for i in range(self.size)] + [default]\u001b[0m\n\u001b[0m                                                   ^\u001b[0m\n\u001b[0;31mSyntaxError\u001b[0m\u001b[0;31m:\u001b[0m invalid syntax\n"
     ]
    }
   ],
   "source": [
    "class LiabilityNetwork:\n",
    "    \n",
    "    def __init__(self, size):\n",
    "        self.size = size\n",
    "        self.liabilities = np.zeros((size, size))\n",
    "        self.update_function = lambda capital, exposure, total_exposure: 0 if capital < exposure else -capital*exposure/total_exposure\n",
    "\n",
    "    def step(self):\n",
    "        # Randomly select defaulted institution\n",
    "        default = np.random.randint(self.size)\n",
    "        \n",
    "        # Remove capital from default\n",
    "        self.liabilities[default, default] = 0\n",
    "        \n",
    "        # Calculate if bailed out\n",
    "        bailout = np.random.randint(2)\n",
    "        \n",
    "        # TODO: handle bailout\n",
    "\n",
    "        # Get defaults\n",
    "        defaults = [i if self.liabilities[i, i] == 0 for i in range(self.size)] + [default]\n",
    "        num_defaults = -1  # just need an initial value to get into while loop\n",
    "        while num_defaults != 0:  # iterate until \"stable\"\n",
    "            num_defaults = 0\n",
    "            for i in range(self.size):\n",
    "                capital = self.liabilities[i, i]\n",
    "                total_exposure = self.liabilities[i, :].sum() - capital\n",
    "                defaulted = capital == 0 or any([(capital - self.liabilities[i, j]) < 0 for j defaults])\n",
    "\n",
    "                if not defaulted:\n",
    "                    for j in range(self.size):\n",
    "                        if j in defaults:\n",
    "                            next\n",
    "                        else:\n",
    "                            exposure = self.liabilities[i, j]\n",
    "                            self.liabilities[i, j] = exposure + self.update_function(capital, exposure, total_exposure)\n",
    "                else:\n",
    "                    self.liabilities[i, i] = 0\n",
    "                    defaults.append(i)\n",
    "                    num_defaults += 1\n",
    "        return defaults"
   ]
  },
  {
   "cell_type": "code",
   "execution_count": null,
   "metadata": {
    "collapsed": true
   },
   "outputs": [],
   "source": []
  }
 ],
 "metadata": {
  "kernelspec": {
   "display_name": "Python 2",
   "language": "python",
   "name": "python2"
  },
  "language_info": {
   "codemirror_mode": {
    "name": "ipython",
    "version": 2
   },
   "file_extension": ".py",
   "mimetype": "text/x-python",
   "name": "python",
   "nbconvert_exporter": "python",
   "pygments_lexer": "ipython2",
   "version": "2.7.13"
  }
 },
 "nbformat": 4,
 "nbformat_minor": 2
}
