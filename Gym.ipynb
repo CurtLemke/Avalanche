{
 "cells": [
  {
   "cell_type": "code",
   "execution_count": 1,
   "metadata": {
    "collapsed": false
   },
   "outputs": [],
   "source": [
    "import matplotlib.pyplot as plt\n",
    "import networkx as nx\n",
    "import numpy as np\n",
    "import cvxpy as cvx\n",
    "from pprint import pprint\n",
    "from random import shuffle\n",
    "\n",
    "from contagion import binarize_probabilities, distribute_liabilities, make_connections, DeterministicNetwork"
   ]
  },
  {
   "cell_type": "code",
   "execution_count": 2,
   "metadata": {
    "collapsed": false
   },
   "outputs": [],
   "source": [
    "cash_vector = np.random.normal(10000, 10000, 100)\n",
    "cash_vector[cash_vector <= 0] = 1*10**-10\n",
    "# cash_vector[cash_vector > 5000] = 6500\n",
    "cash_to_connectivity = lambda x: np.log(x).astype(int)\n",
    "connectivity_vector = cash_to_connectivity(cash_vector)"
   ]
  },
  {
   "cell_type": "code",
   "execution_count": 3,
   "metadata": {
    "collapsed": false
   },
   "outputs": [],
   "source": [
    "# Make the adjacency matrix\n",
    "mat = make_connections(connectivity_vector)\n",
    "mat = binarize_probabilities(mat)\n",
    "\n",
    "# Distribute liabilities\n",
    "leverage_ratios = np.random.normal(10, 2, 100)\n",
    "leverage_ratios[leverage_ratios < 5] = 5\n",
    "\n",
    "liabilities = np.multiply(cash_vector, leverage_ratios)\n",
    "mat = distribute_liabilities(mat, liabilities)\n",
    "for i, cash in enumerate(cash_vector):\n",
    "    mat[i, i] = cash"
   ]
  },
  {
   "cell_type": "code",
   "execution_count": 4,
   "metadata": {
    "collapsed": false
   },
   "outputs": [
    {
     "data": {
      "image/png": "[encoded data removed]",
      "text/plain": [
       "<matplotlib.figure.Figure at 0x10cd70190>"
      ]
     },
     "metadata": {},
     "output_type": "display_data"
    }
   ],
   "source": [
    "fig = plt.figure()\n",
    "ax = fig.add_subplot(1,1,1)\n",
    "ax.set_aspect('equal')\n",
    "plt.imshow(mat, interpolation='nearest', cmap=plt.cm.hot)\n",
    "plt.colorbar()\n",
    "plt.show()"
   ]
  },
  {
   "cell_type": "code",
   "execution_count": null,
   "metadata": {
    "collapsed": true
   },
   "outputs": [],
   "source": []
  }
 ],
 "metadata": {
  "kernelspec": {
   "display_name": "Python 2",
   "language": "python",
   "name": "python2"
  },
  "language_info": {
   "codemirror_mode": {
    "name": "ipython",
    "version": 2
   },
   "file_extension": ".py",
   "mimetype": "text/x-python",
   "name": "python",
   "nbconvert_exporter": "python",
   "pygments_lexer": "ipython2",
   "version": "2.7.13"
  }
 },
 "nbformat": 4,
 "nbformat_minor": 2
}
