{
 "cells": [
  {
   "cell_type": "code",
   "execution_count": 1,
   "metadata": {
    "collapsed": false
   },
   "outputs": [],
   "source": [
    "import networkx as nx\n",
    "import matplotlib.pyplot as plt\n",
    "import numpy as np\n",
    "\n",
    "def my_update_function(capital, exposure, total_exposure):\n",
    "    return exposure if capital < exposure else (exposure - capital*exposure/total_exposure)"
   ]
  },
  {
   "cell_type": "code",
   "execution_count": 2,
   "metadata": {
    "collapsed": false
   },
   "outputs": [],
   "source": [
    "class LiabilityNetwork:\n",
    "    \n",
    "    def __init__(self, size):\n",
    "        self.size = size\n",
    "        self.liabilities = np.zeros((size, size))\n",
    "#         self.update_function = my_update_function\n",
    "        self.update_function = lambda capital, exposure, total_exposure: exposure if capital < exposure else (exposure - capital*exposure/total_exposure)\n",
    "\n",
    "    def step(self):\n",
    "        # Randomly select defaulted institution\n",
    "        default = np.random.randint(self.size)\n",
    "        \n",
    "        # Remove capital from default\n",
    "        self.liabilities[default, default] = 0\n",
    "        \n",
    "        # Calculate if bailed out\n",
    "        bailout = np.random.randint(2)\n",
    "        \n",
    "        # TODO: handle bailout\n",
    "\n",
    "        # Get defaults\n",
    "        defaults = [i for i in range(self.size) if self.liabilities[i, i] == 0]\n",
    "        num_defaults = -1  # just need an initial value to get into while loop\n",
    "        while num_defaults != 0:  # iterate until \"stable\"\n",
    "            num_defaults = 0\n",
    "            for i in range(self.size):\n",
    "                capital = self.liabilities[i, i]\n",
    "                total_exposure = self.liabilities[i, :].sum() - capital\n",
    "                defaulted = capital == 0 or any([(capital - self.liabilities[i, j]) < 0 for j in defaults])\n",
    "\n",
    "                if not defaulted:\n",
    "                    for j in range(self.size):\n",
    "                        if j in defaults:\n",
    "                            pass\n",
    "                        else:\n",
    "                            exposure = self.liabilities[i, j]\n",
    "                            self.liabilities[i, j] = self.update_function(capital, exposure, total_exposure)\n",
    "                else:\n",
    "                    self.liabilities[i, i] = 0\n",
    "                    defaults.append(i)\n",
    "                    num_defaults += 1\n",
    "        return defaults"
   ]
  },
  {
   "cell_type": "code",
   "execution_count": 3,
   "metadata": {
    "collapsed": false
   },
   "outputs": [],
   "source": [
    "class SimpleNetwork:\n",
    "    \n",
    "    def __init__(self, size, liabilities=None, recovery_rate=0.0):\n",
    "        self.size = size\n",
    "        self.liabilities = liabilities if liabilities is not None else np.zeros((size, size))\n",
    "        self.recovery_rate = recovery_rate\n",
    "\n",
    "    def reset_net(self):\n",
    "        for i in range(self.size):\n",
    "            for j in range(i + 1, self.size):\n",
    "                self.liabilities[i, j] = max(self.liabilities[i, j] - self.liabilities[j, i], 0)\n",
    "                self.liabilities[j, i] = max(self.liabilities[j, i] - self.liabilities[i, j], 0)\n",
    "\n",
    "    def default(self, i):\n",
    "        self.liabilities[i, i] = 0\n",
    "\n",
    "    def recover(self, i):\n",
    "        for j in range(self.size):\n",
    "            if i != j:\n",
    "                self.liabilities[j, j] += self.recovery_rate * self.liabilities[j, i]\n",
    "                self.liabilities[j, i] = 0\n",
    "\n",
    "    def step(self):\n",
    "        for i in range(self.size):\n",
    "            capital = self.liabilities[i, i]\n",
    "            assets = self.liabilities[i, :].sum()\n",
    "            liabilities = self.liabilities[:, i].sum()\n",
    "            net = capital + assets - liabilities\n",
    "            print(i, assets, liabilities, capital, net)\n",
    "            if net < 0:\n",
    "                self.default(i)\n",
    "                self.recover(i)\n",
    "\n",
    "    def show(self):\n",
    "        fig = plt.figure()\n",
    "        ax = fig.add_subplot(1,1,1)\n",
    "        ax.set_aspect('equal')\n",
    "        plt.imshow(self.liabilities, interpolation='nearest', cmap=plt.cm.hot)\n",
    "        plt.colorbar()\n",
    "        plt.show()"
   ]
  },
  {
   "cell_type": "code",
   "execution_count": null,
   "metadata": {
    "collapsed": false
   },
   "outputs": [],
   "source": [
    "test_liabilities = np.zeros((3, 3))\n",
    "test_liabilities[0, 0] = 1\n",
    "test_liabilities[0, 1] = 4\n",
    "test_liabilities[1, 1] = 1\n",
    "test_liabilities[1, 2] = 1\n",
    "test_liabilities[2, 0] = 5\n",
    "test_liabilities[2, 2] = 2\n",
    "\n",
    "test_m = np.random.randint(10, size=(9250, 9250))"
   ]
  },
  {
   "cell_type": "code",
   "execution_count": null,
   "metadata": {
    "collapsed": false
   },
   "outputs": [],
   "source": [
    "sn = SimpleNetwork(9250, test_m)\n",
    "sn.show()"
   ]
  },
  {
   "cell_type": "code",
   "execution_count": 6,
   "metadata": {
    "collapsed": false
   },
   "outputs": [
    {
     "name": "stdout",
     "output_type": "stream",
     "text": [
      "(0, 450, 452, 5, 3)\n",
      "(1, 457, 460, 4, 1)\n",
      "(2, 415, 409, 9, 15)\n",
      "(3, 446, 393, 4, 57)\n",
      "(4, 438, 430, 4, 12)\n",
      "(5, 401, 472, 2, -69)\n",
      "(6, 432, 455, 9, -14)\n",
      "(7, 433, 486, 2, -51)\n",
      "(8, 435, 450, 5, -10)\n",
      "(9, 432, 460, 6, -22)\n",
      "(10, 471, 425, 2, 48)\n",
      "(11, 464, 469, 3, -2)\n",
      "(12, 409, 427, 6, -12)\n",
      "(13, 397, 466, 8, -61)\n",
      "(14, 458, 411, 5, 52)\n",
      "(15, 370, 443, 8, -65)\n",
      "(16, 401, 428, 9, -18)\n",
      "(17, 393, 425, 2, -30)\n",
      "(18, 379, 471, 4, -88)\n",
      "(19, 433, 487, 1, -53)\n",
      "(20, 381, 480, 7, -92)\n",
      "(21, 451, 464, 5, -8)\n",
      "(22, 341, 489, 5, -143)\n",
      "(23, 395, 466, 7, -64)\n",
      "(24, 370, 459, 9, -80)\n",
      "(25, 387, 437, 6, -44)\n",
      "(26, 362, 442, 6, -74)\n",
      "(27, 353, 438, 4, -81)\n",
      "(28, 365, 429, 6, -58)\n",
      "(29, 367, 451, 1, -83)\n",
      "(30, 366, 456, 3, -87)\n",
      "(31, 356, 469, 2, -111)\n",
      "(32, 327, 451, 4, -120)\n",
      "(33, 317, 423, 1, -105)\n",
      "(34, 339, 452, 0, -113)\n",
      "(35, 356, 462, 3, -103)\n",
      "(36, 338, 435, 5, -92)\n",
      "(37, 298, 470, 7, -165)\n",
      "(38, 290, 490, 1, -199)\n",
      "(39, 300, 442, 9, -133)\n",
      "(40, 308, 392, 5, -79)\n",
      "(41, 309, 476, 2, -165)\n",
      "(42, 300, 423, 0, -123)\n",
      "(43, 337, 448, 8, -103)\n",
      "(44, 292, 438, 6, -140)\n",
      "(45, 258, 477, 8, -211)\n",
      "(46, 261, 443, 7, -175)\n",
      "(47, 306, 386, 8, -72)\n",
      "(48, 250, 441, 7, -184)\n",
      "(49, 242, 470, 4, -224)\n",
      "(50, 241, 480, 1, -238)\n",
      "(51, 240, 410, 0, -170)\n",
      "(52, 257, 491, 5, -229)\n",
      "(53, 237, 432, 8, -187)\n",
      "(54, 239, 442, 0, -203)\n",
      "(55, 204, 475, 2, -269)\n",
      "(56, 262, 489, 9, -218)\n",
      "(57, 218, 464, 5, -241)\n",
      "(58, 185, 476, 4, -287)\n",
      "(59, 142, 423, 1, -280)\n",
      "(60, 206, 479, 9, -264)\n",
      "(61, 222, 451, 1, -228)\n",
      "(62, 248, 484, 3, -233)\n",
      "(63, 209, 465, 5, -251)\n",
      "(64, 215, 479, 7, -257)\n",
      "(65, 198, 445, 8, -239)\n",
      "(66, 187, 487, 8, -292)\n",
      "(67, 153, 460, 6, -301)\n",
      "(68, 154, 482, 0, -328)\n",
      "(69, 168, 483, 8, -307)\n",
      "(70, 154, 432, 7, -271)\n",
      "(71, 159, 511, 4, -348)\n",
      "(72, 155, 477, 4, -318)\n",
      "(73, 165, 488, 3, -320)\n",
      "(74, 164, 401, 6, -231)\n",
      "(75, 153, 446, 3, -290)\n",
      "(76, 128, 402, 1, -273)\n",
      "(77, 141, 436, 7, -288)\n",
      "(78, 131, 458, 8, -319)\n",
      "(79, 145, 433, 1, -287)\n",
      "(80, 114, 461, 1, -346)\n",
      "(81, 132, 454, 0, -322)\n",
      "(82, 109, 448, 6, -333)\n",
      "(83, 110, 431, 2, -319)\n",
      "(84, 103, 429, 2, -324)\n",
      "(85, 102, 510, 1, -407)\n",
      "(86, 88, 425, 2, -335)\n",
      "(87, 89, 463, 7, -367)\n",
      "(88, 79, 428, 6, -343)\n",
      "(89, 82, 441, 1, -358)\n",
      "(90, 68, 460, 1, -391)\n",
      "(91, 57, 447, 4, -386)\n",
      "(92, 55, 453, 7, -391)\n",
      "(93, 65, 469, 7, -397)\n",
      "(94, 53, 430, 3, -374)\n",
      "(95, 50, 468, 0, -418)\n",
      "(96, 49, 421, 6, -366)\n",
      "(97, 43, 517, 6, -468)\n",
      "(98, 33, 423, 1, -389)\n",
      "(99, 29, 408, 8, -371)\n"
     ]
    },
    {
     "data": {
      "image/png": "[encoded data removed]",
      "text/plain": [
       "<matplotlib.figure.Figure at 0x11495fc10>"
      ]
     },
     "metadata": {},
     "output_type": "display_data"
    }
   ],
   "source": [
    "sn.step()\n",
    "sn.show()"
   ]
  },
  {
   "cell_type": "code",
   "execution_count": 13,
   "metadata": {
    "collapsed": false
   },
   "outputs": [
    {
     "name": "stdout",
     "output_type": "stream",
     "text": [
      "(0, 5.0, 6.0, 1.0, 0.0)\n",
      "(1, 0.0, 4.0, 0.0, -4.0)\n",
      "(2, 7.0, 2.0, 2.0, 7.0)\n"
     ]
    },
    {
     "data": {
      "image/png": "[encoded data removed]",
      "text/plain": [
       "<matplotlib.figure.Figure at 0x105581f90>"
      ]
     },
     "metadata": {},
     "output_type": "display_data"
    }
   ],
   "source": [
    "sn.step()\n",
    "sn.show()"
   ]
  },
  {
   "cell_type": "code",
   "execution_count": 17,
   "metadata": {
    "collapsed": false
   },
   "outputs": [
    {
     "name": "stdout",
     "output_type": "stream",
     "text": [
      "(0, 5.0, 6.0, 1.0, 0.0)\n",
      "(1, 0.0, 4.0, 0.0, -4.0)\n",
      "(2, 7.0, 2.0, 2.0, 7.0)\n"
     ]
    },
    {
     "data": {
      "image/png": "[encoded data removed]",
      "text/plain": [
       "<matplotlib.figure.Figure at 0x10d14e3d0>"
      ]
     },
     "metadata": {},
     "output_type": "display_data"
    }
   ],
   "source": [
    "sn.step()\n",
    "sn.show()"
   ]
  },
  {
   "cell_type": "code",
   "execution_count": null,
   "metadata": {
    "collapsed": true
   },
   "outputs": [],
   "source": []
  }
 ],
 "metadata": {
  "kernelspec": {
   "display_name": "Python 2",
   "language": "python",
   "name": "python2"
  },
  "language_info": {
   "codemirror_mode": {
    "name": "ipython",
    "version": 2
   },
   "file_extension": ".py",
   "mimetype": "text/x-python",
   "name": "python",
   "nbconvert_exporter": "python",
   "pygments_lexer": "ipython2",
   "version": "2.7.13"
  }
 },
 "nbformat": 4,
 "nbformat_minor": 2
}
