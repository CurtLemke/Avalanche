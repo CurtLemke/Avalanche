{
 "cells": [
  {
   "cell_type": "code",
   "execution_count": 1,
   "metadata": {
    "collapsed": false
   },
   "outputs": [],
   "source": [
    "import networkx as nx\n",
    "import matplotlib.pyplot as plt\n",
    "import numpy as np\n",
    "\n",
    "def my_update_function(capital, exposure, total_exposure):\n",
    "    return exposure if capital < exposure else (exposure - capital*exposure/total_exposure)"
   ]
  },
  {
   "cell_type": "code",
   "execution_count": 2,
   "metadata": {
    "collapsed": false
   },
   "outputs": [],
   "source": [
    "class LiabilityNetwork:\n",
    "    \n",
    "    def __init__(self, size):\n",
    "        self.size = size\n",
    "        self.liabilities = np.zeros((size, size))\n",
    "#         self.update_function = my_update_function\n",
    "        self.update_function = lambda capital, exposure, total_exposure: exposure if capital < exposure else (exposure - capital*exposure/total_exposure)\n",
    "\n",
    "    def step(self):\n",
    "        # Randomly select defaulted institution\n",
    "        default = np.random.randint(self.size)\n",
    "        \n",
    "        # Remove capital from default\n",
    "        self.liabilities[default, default] = 0\n",
    "        \n",
    "        # Calculate if bailed out\n",
    "        bailout = np.random.randint(2)\n",
    "        \n",
    "        # TODO: handle bailout\n",
    "\n",
    "        # Get defaults\n",
    "        defaults = [i for i in range(self.size) if self.liabilities[i, i] == 0]\n",
    "        num_defaults = -1  # just need an initial value to get into while loop\n",
    "        while num_defaults != 0:  # iterate until \"stable\"\n",
    "            num_defaults = 0\n",
    "            for i in range(self.size):\n",
    "                capital = self.liabilities[i, i]\n",
    "                total_exposure = self.liabilities[i, :].sum() - capital\n",
    "                defaulted = capital == 0 or any([(capital - self.liabilities[i, j]) < 0 for j in defaults])\n",
    "\n",
    "                if not defaulted:\n",
    "                    for j in range(self.size):\n",
    "                        if j in defaults:\n",
    "                            pass\n",
    "                        else:\n",
    "                            exposure = self.liabilities[i, j]\n",
    "                            self.liabilities[i, j] = self.update_function(capital, exposure, total_exposure)\n",
    "                else:\n",
    "                    self.liabilities[i, i] = 0\n",
    "                    defaults.append(i)\n",
    "                    num_defaults += 1\n",
    "        return defaults"
   ]
  },
  {
   "cell_type": "code",
   "execution_count": 1,
   "metadata": {
    "collapsed": false
   },
   "outputs": [
    {
     "ename": "IndentationError",
     "evalue": "expected an indented block (<ipython-input-1-109c4c9a9c32>, line 12)",
     "output_type": "error",
     "traceback": [
      "\u001b[0;36m  File \u001b[0;32m\"<ipython-input-1-109c4c9a9c32>\"\u001b[0;36m, line \u001b[0;32m12\u001b[0m\n\u001b[0;31m    def default(self, i):\u001b[0m\n\u001b[0m    ^\u001b[0m\n\u001b[0;31mIndentationError\u001b[0m\u001b[0;31m:\u001b[0m expected an indented block\n"
     ]
    }
   ],
   "source": [
    "class SimpleNetwork:\n",
    "    \n",
    "    def __init__(self, size, liabilities=None, recovery_rate=0.0):\n",
    "        self.size = size\n",
    "        self.liabilities = liabilities if liabilities is not None else np.zeros((size, size))\n",
    "        self.recovery_rate = recovery_rate\n",
    "\n",
    "    def reset_net(self):\n",
    "        for i in range(self.size):\n",
    "            for j in range(i + 1, self.size):\n",
    "                self.liabilities[i, j] = max(self.liabilities[i, j] - self.liabilities[j, i], 0)\n",
    "                self.liabilities[j, i] = max(self.liabilities[j, i] - self.liabilities[i, j], 0)\n",
    "\n",
    "    def default(self, i):\n",
    "        self.liabilities[i, i] = 0\n",
    "\n",
    "    def recover(self, i):\n",
    "        for j in range(self.size):\n",
    "            if i != j:\n",
    "                self.liabilities[j, j] += self.recovery_rate * self.liabilities[j, i]\n",
    "                self.liabilities[j, i] = 0\n",
    "\n",
    "    def step(self):\n",
    "        for i in range(self.size):\n",
    "            capital = self.liabilities[i, i]\n",
    "            assets = self.liabilities[i, :].sum()\n",
    "            liabilities = self.liabilities[:, i].sum()\n",
    "            net = capital + assets - liabilities\n",
    "            print(i, assets, liabilities, capital, net)\n",
    "            if net < 0:\n",
    "                self.default(i)\n",
    "                self.recover(i)\n",
    "\n",
    "    def show(self):\n",
    "        fig = plt.figure()\n",
    "        ax = fig.add_subplot(1,1,1)\n",
    "        ax.set_aspect('equal')\n",
    "        plt.imshow(self.liabilities, interpolation='nearest', cmap=plt.cm.hot)\n",
    "        plt.colorbar()\n",
    "        plt.show()"
   ]
  },
  {
   "cell_type": "code",
   "execution_count": 3,
   "metadata": {
    "collapsed": false
   },
   "outputs": [],
   "source": [
    "test_liabilities = np.zeros((3, 3))\n",
    "test_liabilities[0, 0] = 1\n",
    "test_liabilities[0, 1] = 4\n",
    "test_liabilities[1, 1] = 1\n",
    "test_liabilities[1, 2] = 1\n",
    "test_liabilities[2, 0] = 5\n",
    "test_liabilities[2, 2] = 2"
   ]
  },
  {
   "cell_type": "code",
   "execution_count": 4,
   "metadata": {
    "collapsed": false
   },
   "outputs": [
    {
     "data": {
      "image/png": "[encoded data removed]",
      "text/plain": [
       "<matplotlib.figure.Figure at 0x10f115850>"
      ]
     },
     "metadata": {},
     "output_type": "display_data"
    }
   ],
   "source": [
    "sn = SimpleNetwork(3, test_liabilities)\n",
    "sn.show()"
   ]
  },
  {
   "cell_type": "code",
   "execution_count": 5,
   "metadata": {
    "collapsed": false
   },
   "outputs": [
    {
     "name": "stdout",
     "output_type": "stream",
     "text": [
      "(0, 5.0, 6.0, 1.0, 0.0)\n",
      "(1, 2.0, 5.0, 1.0, -2.0)\n",
      "(2, 7.0, 3.0, 2.0, 6.0)\n"
     ]
    },
    {
     "data": {
      "image/png": "[encoded data removed]",
      "text/plain": [
       "<matplotlib.figure.Figure at 0x10f523e50>"
      ]
     },
     "metadata": {},
     "output_type": "display_data"
    }
   ],
   "source": [
    "sn.step()\n",
    "sn.show()"
   ]
  },
  {
   "cell_type": "code",
   "execution_count": 13,
   "metadata": {
    "collapsed": false
   },
   "outputs": [
    {
     "name": "stdout",
     "output_type": "stream",
     "text": [
      "(0, 5.0, 6.0, 1.0, 0.0)\n",
      "(1, 0.0, 4.0, 0.0, -4.0)\n",
      "(2, 7.0, 2.0, 2.0, 7.0)\n"
     ]
    },
    {
     "data": {
      "image/png": "[encoded data removed]",
      "text/plain": [
       "<matplotlib.figure.Figure at 0x105581f90>"
      ]
     },
     "metadata": {},
     "output_type": "display_data"
    }
   ],
   "source": [
    "sn.step()\n",
    "sn.show()"
   ]
  },
  {
   "cell_type": "code",
   "execution_count": 17,
   "metadata": {
    "collapsed": false
   },
   "outputs": [
    {
     "name": "stdout",
     "output_type": "stream",
     "text": [
      "(0, 5.0, 6.0, 1.0, 0.0)\n",
      "(1, 0.0, 4.0, 0.0, -4.0)\n",
      "(2, 7.0, 2.0, 2.0, 7.0)\n"
     ]
    },
    {
     "data": {
      "image/png": "[encoded data removed]",
      "text/plain": [
       "<matplotlib.figure.Figure at 0x10d14e3d0>"
      ]
     },
     "metadata": {},
     "output_type": "display_data"
    }
   ],
   "source": [
    "sn.step()\n",
    "sn.show()"
   ]
  },
  {
   "cell_type": "code",
   "execution_count": null,
   "metadata": {
    "collapsed": true
   },
   "outputs": [],
   "source": []
  }
 ],
 "metadata": {
  "kernelspec": {
   "display_name": "Python 2",
   "language": "python",
   "name": "python2"
  },
  "language_info": {
   "codemirror_mode": {
    "name": "ipython",
    "version": 2
   },
   "file_extension": ".py",
   "mimetype": "text/x-python",
   "name": "python",
   "nbconvert_exporter": "python",
   "pygments_lexer": "ipython2",
   "version": "2.7.13"
  }
 },
 "nbformat": 4,
 "nbformat_minor": 2
}
