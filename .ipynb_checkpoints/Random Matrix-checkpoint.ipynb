{
 "cells": [
  {
   "cell_type": "code",
   "execution_count": 1,
   "metadata": {
    "collapsed": false
   },
   "outputs": [],
   "source": [
    "import matplotlib.pyplot as plt\n",
    "import networkx as nx\n",
    "import numpy as np\n",
    "import cvxpy as cvx\n",
    "from pprint import pprint\n",
    "from random import shuffle"
   ]
  },
  {
   "cell_type": "code",
   "execution_count": 2,
   "metadata": {
    "collapsed": false
   },
   "outputs": [],
   "source": [
    "cash_vector = np.random.normal(10000, 5000, 100)\n",
    "cash_vector[cash_vector <= 0] = 1*10**-10\n",
    "cash_to_connectivity = lambda x: np.log(x).astype(int)\n",
    "connectivity_vector = cash_to_connectivity(cash_vector)"
   ]
  },
  {
   "cell_type": "code",
   "execution_count": 11,
   "metadata": {
    "collapsed": false
   },
   "outputs": [],
   "source": [
    "def make_connections(connectivity_vector, randomize=False):\n",
    "    size = connectivity_vector.shape[0]\n",
    "    connections = cvx.Variable(size, size)\n",
    "    objective = cvx.Minimize(cvx.sum_entries(connections))\n",
    "\n",
    "    constraints = [connections[i, i] == 1 for i in range(size)]\n",
    "    for i, connection in enumerate(connectivity_vector):\n",
    "        connection_constraint = cvx.sum_entries(connections[i, :]) + cvx.sum_entries(connections[:, i]) >= connection\n",
    "        constraints.append(connection_constraint)\n",
    "\n",
    "    for i in range(size):\n",
    "        for j in range(size):\n",
    "            lt_one_constraint = connections[i, j] <= 1\n",
    "            constraints.append(lt_one_constraint)\n",
    "\n",
    "    problem = cvx.Problem(objective, constraints)\n",
    "    problem.solve()\n",
    "\n",
    "    real_connections = connections.value\n",
    "    \n",
    "    adj_mat = np.zeros((size, size))\n",
    "    inds = range(size)\n",
    "    if randomize:\n",
    "        shuffle(inds)\n",
    "    for i in inds:\n",
    "        connection = connectivity_vector[i]\n",
    "        connection = max(0, int(connection - adj_mat[i, :].sum()))\n",
    "        max_connection_inds = real_connections[i].argsort()[::-1]\n",
    "        max_connection_inds = max_connection_inds[0, :connection]\n",
    "        for j in max_connection_inds:\n",
    "            adj_mat[i, j] = 1\n",
    "            adj_mat[j, i] = -1\n",
    "    return adj_mat"
   ]
  },
  {
   "cell_type": "code",
   "execution_count": 12,
   "metadata": {
    "collapsed": false
   },
   "outputs": [],
   "source": [
    "c = make_connections(connectivity_vector)"
   ]
  },
  {
   "cell_type": "code",
   "execution_count": 13,
   "metadata": {
    "collapsed": false
   },
   "outputs": [
    {
     "data": {
      "image/png": "[encoded data removed]",
      "text/plain": [
       "<matplotlib.figure.Figure at 0x11e382f90>"
      ]
     },
     "metadata": {},
     "output_type": "display_data"
    }
   ],
   "source": [
    "fig = plt.figure()\n",
    "ax = fig.add_subplot(1,1,1)\n",
    "ax.set_aspect('equal')\n",
    "plt.imshow(c, interpolation='nearest', cmap=plt.cm.hot)\n",
    "plt.colorbar()\n",
    "plt.show()"
   ]
  },
  {
   "cell_type": "code",
   "execution_count": null,
   "metadata": {
    "collapsed": true
   },
   "outputs": [],
   "source": []
  }
 ],
 "metadata": {
  "kernelspec": {
   "display_name": "Python 2",
   "language": "python",
   "name": "python2"
  },
  "language_info": {
   "codemirror_mode": {
    "name": "ipython",
    "version": 2
   },
   "file_extension": ".py",
   "mimetype": "text/x-python",
   "name": "python",
   "nbconvert_exporter": "python",
   "pygments_lexer": "ipython2",
   "version": "2.7.13"
  }
 },
 "nbformat": 4,
 "nbformat_minor": 2
}
